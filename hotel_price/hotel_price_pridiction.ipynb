{
 "cells": [
  {
   "cell_type": "code",
   "execution_count": 1,
   "id": "72a51c70",
   "metadata": {},
   "outputs": [
    {
     "data": {
      "text/plain": [
       "True"
      ]
     },
     "execution_count": 1,
     "metadata": {},
     "output_type": "execute_result"
    }
   ],
   "source": [
    "import numpy as np\n",
    "import pandas as pd\n",
    "import seaborn as sns\n",
    "import random\n",
    "import matplotlib.pyplot as plt\n",
    "import warnings\n",
    "warnings.filterwarnings(\"ignore\")\n",
    "from sklearn.preprocessing import StandardScaler\n",
    "from sklearn.model_selection import train_test_split\n",
    "from sklearn.preprocessing import LabelEncoder\n",
    "from sklearn.linear_model import LogisticRegression\n",
    "from sklearn.ensemble import RandomForestRegressor\n",
    "from sklearn.metrics import mean_absolute_error, mean_squared_error, r2_score\n",
    "from sklearn.decomposition import PCA\n",
    "from sklearn.ensemble import RandomForestClassifier, GradientBoostingClassifier\n",
    "from sklearn.metrics import confusion_matrix\n",
    "from sklearn.metrics import accuracy_score,classification_report, precision_recall_curve\n",
    "from sklearn.tree import DecisionTreeClassifier\n",
    "from sklearn.metrics import accuracy_score\n",
    "import joblib\n",
    "import os\n",
    "from dotenv import load_dotenv\n",
    "load_dotenv()"
   ]
  },
  {
   "cell_type": "code",
   "execution_count": 2,
   "id": "e8387c10",
   "metadata": {},
   "outputs": [],
   "source": [
    "# Load the hotel data from the CSV file\n",
    "hotel_path = os.getenv(\"hotel_path\")\n",
    "hotel = pd.read_csv(hotel_path)"
   ]
  },
  {
   "cell_type": "code",
   "execution_count": 3,
   "id": "386508d8",
   "metadata": {},
   "outputs": [
    {
     "data": {
      "text/html": [
       "<div>\n",
       "<style scoped>\n",
       "    .dataframe tbody tr th:only-of-type {\n",
       "        vertical-align: middle;\n",
       "    }\n",
       "\n",
       "    .dataframe tbody tr th {\n",
       "        vertical-align: top;\n",
       "    }\n",
       "\n",
       "    .dataframe thead th {\n",
       "        text-align: right;\n",
       "    }\n",
       "</style>\n",
       "<table border=\"1\" class=\"dataframe\">\n",
       "  <thead>\n",
       "    <tr style=\"text-align: right;\">\n",
       "      <th></th>\n",
       "      <th>travelCode</th>\n",
       "      <th>userCode</th>\n",
       "      <th>name</th>\n",
       "      <th>place</th>\n",
       "      <th>days</th>\n",
       "      <th>price</th>\n",
       "      <th>total</th>\n",
       "      <th>date</th>\n",
       "    </tr>\n",
       "  </thead>\n",
       "  <tbody>\n",
       "    <tr>\n",
       "      <th>0</th>\n",
       "      <td>0</td>\n",
       "      <td>0</td>\n",
       "      <td>Hotel A</td>\n",
       "      <td>Florianopolis (SC)</td>\n",
       "      <td>4</td>\n",
       "      <td>313.02</td>\n",
       "      <td>1252.08</td>\n",
       "      <td>09/26/2019</td>\n",
       "    </tr>\n",
       "    <tr>\n",
       "      <th>1</th>\n",
       "      <td>2</td>\n",
       "      <td>0</td>\n",
       "      <td>Hotel K</td>\n",
       "      <td>Salvador (BH)</td>\n",
       "      <td>2</td>\n",
       "      <td>263.41</td>\n",
       "      <td>526.82</td>\n",
       "      <td>10-10-2019</td>\n",
       "    </tr>\n",
       "    <tr>\n",
       "      <th>2</th>\n",
       "      <td>7</td>\n",
       "      <td>0</td>\n",
       "      <td>Hotel K</td>\n",
       "      <td>Salvador (BH)</td>\n",
       "      <td>3</td>\n",
       "      <td>263.41</td>\n",
       "      <td>790.23</td>\n",
       "      <td>11/14/2019</td>\n",
       "    </tr>\n",
       "    <tr>\n",
       "      <th>3</th>\n",
       "      <td>11</td>\n",
       "      <td>0</td>\n",
       "      <td>Hotel K</td>\n",
       "      <td>Salvador (BH)</td>\n",
       "      <td>4</td>\n",
       "      <td>263.41</td>\n",
       "      <td>1053.64</td>\n",
       "      <td>12-12-2019</td>\n",
       "    </tr>\n",
       "    <tr>\n",
       "      <th>4</th>\n",
       "      <td>13</td>\n",
       "      <td>0</td>\n",
       "      <td>Hotel A</td>\n",
       "      <td>Florianopolis (SC)</td>\n",
       "      <td>1</td>\n",
       "      <td>313.02</td>\n",
       "      <td>313.02</td>\n",
       "      <td>12/26/2019</td>\n",
       "    </tr>\n",
       "  </tbody>\n",
       "</table>\n",
       "</div>"
      ],
      "text/plain": [
       "   travelCode  userCode     name               place  days   price    total  \\\n",
       "0           0         0  Hotel A  Florianopolis (SC)     4  313.02  1252.08   \n",
       "1           2         0  Hotel K       Salvador (BH)     2  263.41   526.82   \n",
       "2           7         0  Hotel K       Salvador (BH)     3  263.41   790.23   \n",
       "3          11         0  Hotel K       Salvador (BH)     4  263.41  1053.64   \n",
       "4          13         0  Hotel A  Florianopolis (SC)     1  313.02   313.02   \n",
       "\n",
       "         date  \n",
       "0  09/26/2019  \n",
       "1  10-10-2019  \n",
       "2  11/14/2019  \n",
       "3  12-12-2019  \n",
       "4  12/26/2019  "
      ]
     },
     "execution_count": 3,
     "metadata": {},
     "output_type": "execute_result"
    }
   ],
   "source": [
    "hotel.head()"
   ]
  },
  {
   "cell_type": "code",
   "execution_count": 4,
   "id": "d10ff1fe",
   "metadata": {},
   "outputs": [
    {
     "data": {
      "text/plain": [
       "(40552, 8)"
      ]
     },
     "execution_count": 4,
     "metadata": {},
     "output_type": "execute_result"
    }
   ],
   "source": [
    "hotel.shape"
   ]
  },
  {
   "cell_type": "code",
   "execution_count": 5,
   "id": "14b82eac",
   "metadata": {},
   "outputs": [
    {
     "data": {
      "text/html": [
       "<div>\n",
       "<style scoped>\n",
       "    .dataframe tbody tr th:only-of-type {\n",
       "        vertical-align: middle;\n",
       "    }\n",
       "\n",
       "    .dataframe tbody tr th {\n",
       "        vertical-align: top;\n",
       "    }\n",
       "\n",
       "    .dataframe thead th {\n",
       "        text-align: right;\n",
       "    }\n",
       "</style>\n",
       "<table border=\"1\" class=\"dataframe\">\n",
       "  <thead>\n",
       "    <tr style=\"text-align: right;\">\n",
       "      <th></th>\n",
       "      <th>travelCode</th>\n",
       "      <th>userCode</th>\n",
       "      <th>days</th>\n",
       "      <th>price</th>\n",
       "      <th>total</th>\n",
       "    </tr>\n",
       "  </thead>\n",
       "  <tbody>\n",
       "    <tr>\n",
       "      <th>count</th>\n",
       "      <td>40552.000000</td>\n",
       "      <td>40552.000000</td>\n",
       "      <td>40552.000000</td>\n",
       "      <td>40552.000000</td>\n",
       "      <td>40552.000000</td>\n",
       "    </tr>\n",
       "    <tr>\n",
       "      <th>mean</th>\n",
       "      <td>67911.794461</td>\n",
       "      <td>666.963726</td>\n",
       "      <td>2.499679</td>\n",
       "      <td>214.439554</td>\n",
       "      <td>536.229513</td>\n",
       "    </tr>\n",
       "    <tr>\n",
       "      <th>std</th>\n",
       "      <td>39408.199333</td>\n",
       "      <td>391.136794</td>\n",
       "      <td>1.119326</td>\n",
       "      <td>76.742305</td>\n",
       "      <td>319.331482</td>\n",
       "    </tr>\n",
       "    <tr>\n",
       "      <th>min</th>\n",
       "      <td>0.000000</td>\n",
       "      <td>0.000000</td>\n",
       "      <td>1.000000</td>\n",
       "      <td>60.390000</td>\n",
       "      <td>60.390000</td>\n",
       "    </tr>\n",
       "    <tr>\n",
       "      <th>25%</th>\n",
       "      <td>33696.750000</td>\n",
       "      <td>323.000000</td>\n",
       "      <td>1.000000</td>\n",
       "      <td>165.990000</td>\n",
       "      <td>247.620000</td>\n",
       "    </tr>\n",
       "    <tr>\n",
       "      <th>50%</th>\n",
       "      <td>67831.000000</td>\n",
       "      <td>658.000000</td>\n",
       "      <td>2.000000</td>\n",
       "      <td>242.880000</td>\n",
       "      <td>495.240000</td>\n",
       "    </tr>\n",
       "    <tr>\n",
       "      <th>75%</th>\n",
       "      <td>102211.250000</td>\n",
       "      <td>1013.000000</td>\n",
       "      <td>4.000000</td>\n",
       "      <td>263.410000</td>\n",
       "      <td>742.860000</td>\n",
       "    </tr>\n",
       "    <tr>\n",
       "      <th>max</th>\n",
       "      <td>135942.000000</td>\n",
       "      <td>1339.000000</td>\n",
       "      <td>4.000000</td>\n",
       "      <td>313.020000</td>\n",
       "      <td>1252.080000</td>\n",
       "    </tr>\n",
       "  </tbody>\n",
       "</table>\n",
       "</div>"
      ],
      "text/plain": [
       "          travelCode      userCode          days         price         total\n",
       "count   40552.000000  40552.000000  40552.000000  40552.000000  40552.000000\n",
       "mean    67911.794461    666.963726      2.499679    214.439554    536.229513\n",
       "std     39408.199333    391.136794      1.119326     76.742305    319.331482\n",
       "min         0.000000      0.000000      1.000000     60.390000     60.390000\n",
       "25%     33696.750000    323.000000      1.000000    165.990000    247.620000\n",
       "50%     67831.000000    658.000000      2.000000    242.880000    495.240000\n",
       "75%    102211.250000   1013.000000      4.000000    263.410000    742.860000\n",
       "max    135942.000000   1339.000000      4.000000    313.020000   1252.080000"
      ]
     },
     "execution_count": 5,
     "metadata": {},
     "output_type": "execute_result"
    }
   ],
   "source": [
    "hotel.describe()"
   ]
  },
  {
   "cell_type": "code",
   "execution_count": 6,
   "id": "a892da83",
   "metadata": {},
   "outputs": [
    {
     "name": "stdout",
     "output_type": "stream",
     "text": [
      "<class 'pandas.core.frame.DataFrame'>\n",
      "RangeIndex: 40552 entries, 0 to 40551\n",
      "Data columns (total 8 columns):\n",
      " #   Column      Non-Null Count  Dtype  \n",
      "---  ------      --------------  -----  \n",
      " 0   travelCode  40552 non-null  int64  \n",
      " 1   userCode    40552 non-null  int64  \n",
      " 2   name        40552 non-null  object \n",
      " 3   place       40552 non-null  object \n",
      " 4   days        40552 non-null  int64  \n",
      " 5   price       40552 non-null  float64\n",
      " 6   total       40552 non-null  float64\n",
      " 7   date        40552 non-null  object \n",
      "dtypes: float64(2), int64(3), object(3)\n",
      "memory usage: 2.5+ MB\n"
     ]
    }
   ],
   "source": [
    "hotel.info()"
   ]
  },
  {
   "cell_type": "code",
   "execution_count": 7,
   "id": "0b1b663d",
   "metadata": {},
   "outputs": [
    {
     "data": {
      "text/plain": [
       "travelCode    0\n",
       "userCode      0\n",
       "name          0\n",
       "place         0\n",
       "days          0\n",
       "price         0\n",
       "total         0\n",
       "date          0\n",
       "dtype: int64"
      ]
     },
     "execution_count": 7,
     "metadata": {},
     "output_type": "execute_result"
    }
   ],
   "source": [
    "hotel.isnull().sum()"
   ]
  },
  {
   "cell_type": "code",
   "execution_count": 8,
   "id": "bbb437f2",
   "metadata": {},
   "outputs": [],
   "source": [
    "# Converting date column to datetime format to handle inconsistencies in date format\n",
    "hotel['date'] = pd.to_datetime(hotel['date'], errors='coerce')"
   ]
  },
  {
   "cell_type": "code",
   "execution_count": 9,
   "id": "ff943d3c",
   "metadata": {},
   "outputs": [],
   "source": [
    "# Label encoding for categorical columns to convert them into numeric values\n",
    "label_encoder_name = LabelEncoder()\n",
    "hotel['name'] = label_encoder_name.fit_transform(hotel['name'])\n",
    "\n",
    "label_encoder_place = LabelEncoder()\n",
    "hotel['place'] = label_encoder_place.fit_transform(hotel['place'])"
   ]
  },
  {
   "cell_type": "code",
   "execution_count": 10,
   "id": "75d06578",
   "metadata": {},
   "outputs": [],
   "source": [
    "# Selecting features and target variable \n",
    "X = hotel[['travelCode', 'userCode', 'days', 'price', 'total']]\n",
    "y_name = hotel['name']\n",
    "y_place = hotel['place']\n",
    "y_price = hotel['price']\n",
    "\n",
    "#  Splitting the hotel into training and testing sets  \n",
    "X_train, X_test, y_name_train, y_name_test = train_test_split(X, y_name, test_size=0.2, random_state=42)\n",
    "_, _, y_place_train, y_place_test = train_test_split(X, y_place, test_size=0.2, random_state=42)\n",
    "_, _, y_price_train, y_price_test = train_test_split(X, y_price, test_size=0.2, random_state=42)"
   ]
  },
  {
   "cell_type": "code",
   "execution_count": 11,
   "id": "4b8ce525",
   "metadata": {},
   "outputs": [
    {
     "name": "stdout",
     "output_type": "stream",
     "text": [
      "Hotel Name Prediction Report:\n",
      "               precision    recall  f1-score   support\n",
      "\n",
      "           0       1.00      1.00      1.00       655\n",
      "           1       1.00      1.00      1.00      1006\n",
      "           2       1.00      1.00      1.00       894\n",
      "           3       1.00      1.00      1.00       969\n",
      "           4       1.00      1.00      1.00       841\n",
      "           5       1.00      1.00      1.00       896\n",
      "           6       1.00      1.00      1.00       997\n",
      "           7       1.00      1.00      1.00      1025\n",
      "           8       1.00      1.00      1.00       828\n",
      "\n",
      "    accuracy                           1.00      8111\n",
      "   macro avg       1.00      1.00      1.00      8111\n",
      "weighted avg       1.00      1.00      1.00      8111\n",
      "\n",
      "************************************************************\n",
      "Hotel Place Prediction Report:\n",
      "               precision    recall  f1-score   support\n",
      "\n",
      "           0       1.00      1.00      1.00       828\n",
      "           1       1.00      1.00      1.00       841\n",
      "           2       1.00      1.00      1.00       896\n",
      "           3       1.00      1.00      1.00       655\n",
      "           4       1.00      1.00      1.00       969\n",
      "           5       1.00      1.00      1.00       894\n",
      "           6       1.00      1.00      1.00       997\n",
      "           7       1.00      1.00      1.00      1025\n",
      "           8       1.00      1.00      1.00      1006\n",
      "\n",
      "    accuracy                           1.00      8111\n",
      "   macro avg       1.00      1.00      1.00      8111\n",
      "weighted avg       1.00      1.00      1.00      8111\n",
      "\n",
      "************************************************************\n",
      "Hotel Price Prediction Report:\n",
      " 1.430902180041399e-23\n"
     ]
    }
   ],
   "source": [
    "# Train the model for hotel name prediction\n",
    "model_name = RandomForestClassifier()\n",
    "model_name.fit(X_train, y_name_train)\n",
    "\n",
    "# Train the model for hotel place prediction\n",
    "model_place = RandomForestClassifier()\n",
    "model_place.fit(X_train, y_place_train)\n",
    "\n",
    "# Train the model for hotel price prediction  \n",
    "model_price = RandomForestRegressor()\n",
    "model_price.fit(X_train, y_price_train)\n",
    "\n",
    "# Make predictions\n",
    "y_name_pred = model_name.predict(X_test)\n",
    "y_place_pred = model_place.predict(X_test)\n",
    "y_price_pred = model_price.predict(X_test)\n",
    "\n",
    "# Print the classification report\n",
    "print(\"Hotel Name Prediction Report:\\n\", classification_report(y_name_test, y_name_pred))\n",
    "print(\"*\" * 60)\n",
    "print(\"Hotel Place Prediction Report:\\n\", classification_report(y_place_test, y_place_pred))\n",
    "print(\"*\" * 60)\n",
    "print(\"Hotel Price Prediction Report:\\n\", mean_squared_error(y_price_test, y_price_pred))\n"
   ]
  },
  {
   "cell_type": "code",
   "execution_count": 12,
   "id": "fecb404d",
   "metadata": {},
   "outputs": [
    {
     "name": "stdout",
     "output_type": "stream",
     "text": [
      "Predicted name index: 0\n",
      "Predicted place index: 3\n",
      "Error: Predicted labels are out of the known range of the encoder\n",
      "Predicted Hotel Price: [313.02]\n"
     ]
    }
   ],
   "source": [
    "# Sample data for fitting label encoder (ensure these cover all possible labels)\n",
    "hotel_names = ['Hotel A', 'Hotel K', 'Hotel Z']\n",
    "hotel_places = ['Florianopolis (SC)', 'Salvador (BH)', 'Aracaju (SE)']\n",
    "\n",
    "# Initialize and fit the LabelEncoder for hotel names and places\n",
    "label_encoder_name = LabelEncoder()\n",
    "label_encoder_place = LabelEncoder()\n",
    "\n",
    "label_encoder_name.fit(hotel_names)\n",
    "label_encoder_place.fit(hotel_places)\n",
    "\n",
    "# Example: Making a prediction\n",
    "sample_data = pd.DataFrame({\n",
    "    'travelCode': [0],\n",
    "    'userCode': [0],\n",
    "    'days': [4],\n",
    "    'price': [313.02],\n",
    "    'total': [1252.08]\n",
    "})\n",
    "\n",
    "# Assuming model_name, model_place, and model_price are already trained\n",
    "predicted_name = model_name.predict(sample_data)\n",
    "predicted_place = model_place.predict(sample_data)\n",
    "predicted_price = model_price.predict(sample_data)\n",
    "\n",
    "# Check if the predicted labels are within the range of the fitted labels\n",
    "print(f\"Predicted name index: {predicted_name[0]}\")\n",
    "print(f\"Predicted place index: {predicted_place[0]}\")\n",
    "\n",
    "# Ensure the predictions are within the range of labels known to the encoder\n",
    "if max(predicted_name) < len(label_encoder_name.classes_) and max(predicted_place) < len(label_encoder_place.classes_):\n",
    "    # Inverse transform to get original labels\n",
    "    print(\"Predicted Hotel Name:\", label_encoder_name.inverse_transform(predicted_name))\n",
    "    print(\"Predicted Hotel Place:\", label_encoder_place.inverse_transform(predicted_place))\n",
    "else:\n",
    "    print(\"Error: Predicted labels are out of the known range of the encoder\")\n",
    "\n",
    "print(\"Predicted Hotel Price:\", predicted_price)\n"
   ]
  },
  {
   "cell_type": "code",
   "execution_count": 13,
   "id": "be19b28f",
   "metadata": {},
   "outputs": [
    {
     "name": "stdout",
     "output_type": "stream",
     "text": [
      "{'name': np.str_('Hotel A'), 'place': 'Unknown label: 3', 'price': np.float64(313.02000000000703)}\n"
     ]
    }
   ],
   "source": [
    "def predict_hotel(travelCode, userCode, days, price, total):\n",
    "    sample_data = pd.DataFrame({\n",
    "        'travelCode': [travelCode],\n",
    "        'userCode': [userCode],\n",
    "        'days': [days],\n",
    "        'price': [price],\n",
    "        'total': [total]\n",
    "    })\n",
    "\n",
    "    predicted_name = model_name.predict(sample_data)\n",
    "    predicted_place = model_place.predict(sample_data)\n",
    "    predicted_price = model_price.predict(sample_data)\n",
    "\n",
    "    # Defensive check for unseen labels\n",
    "    if predicted_place[0] >= len(label_encoder_place.classes_):\n",
    "        place = f\"Unknown label: {predicted_place[0]}\"\n",
    "    else:\n",
    "        place = label_encoder_place.inverse_transform(predicted_place)[0]\n",
    "\n",
    "    if predicted_name[0] >= len(label_encoder_name.classes_):\n",
    "        name = f\"Unknown label: {predicted_name[0]}\"\n",
    "    else:\n",
    "        name = label_encoder_name.inverse_transform(predicted_name)[0]\n",
    "\n",
    "    return {\n",
    "        'name': name,\n",
    "        'place': place,\n",
    "        'price': predicted_price[0]\n",
    "    }\n",
    "\n",
    "# Example prediction\n",
    "print(predict_hotel(0, 0, 4, 313.02, 1252.08))"
   ]
  },
  {
   "cell_type": "code",
   "execution_count": 14,
   "id": "024bbf33",
   "metadata": {},
   "outputs": [
    {
     "name": "stdout",
     "output_type": "stream",
     "text": [
      "{'name': np.str_('Hotel K'), 'place': 'Unknown label: 8', 'price': np.float64(139.09999999999954)}\n",
      "{'name': 'Unknown label: 8', 'place': np.str_('Aracaju (SE)'), 'price': np.float64(208.03999999999968)}\n",
      "{'name': np.str_('Hotel A'), 'place': 'Unknown label: 3', 'price': np.float64(313.02000000000703)}\n",
      "{'name': np.str_('Hotel K'), 'place': 'Unknown label: 8', 'price': np.float64(139.0999999999998)}\n",
      "{'name': np.str_('Hotel A'), 'place': 'Unknown label: 3', 'price': np.float64(313.02000000000703)}\n"
     ]
    }
   ],
   "source": [
    "# Format: predict_hotel(travelCode, userCode, days, price, total)\n",
    "\n",
    "# 1. Short stay, low price\n",
    "print(predict_hotel(1, 2, 2, 150.0, 300.0))\n",
    "\n",
    "# 2. Medium stay, medium price\n",
    "print(predict_hotel(3, 5, 5, 220.0, 1100.0))\n",
    "\n",
    "# 3. Long stay, high price\n",
    "print(predict_hotel(7, 1, 10, 450.0, 4500.0))\n",
    "\n",
    "# 4. Edge case: minimum values\n",
    "print(predict_hotel(0, 0, 1, 100.0, 100.0))\n",
    "\n",
    "# 5. Edge case: maximum plausible values\n",
    "print(predict_hotel(15, 10, 30, 1000.0, 30000.0))"
   ]
  },
  {
   "cell_type": "code",
   "execution_count": 15,
   "id": "52deaf1c",
   "metadata": {},
   "outputs": [
    {
     "data": {
      "text/plain": [
       "['label_encoder_place.joblib']"
      ]
     },
     "execution_count": 15,
     "metadata": {},
     "output_type": "execute_result"
    }
   ],
   "source": [
    "# Save models and encoders\n",
    "joblib.dump(model_name, 'model_name.joblib')\n",
    "joblib.dump(model_place, 'model_place.joblib')\n",
    "joblib.dump(model_price, 'model_price.joblib')\n",
    "joblib.dump(label_encoder_name, 'label_encoder_name.joblib')\n",
    "joblib.dump(label_encoder_place, 'label_encoder_place.joblib')"
   ]
  }
 ],
 "metadata": {
  "kernelspec": {
   "display_name": "Python 3",
   "language": "python",
   "name": "python3"
  },
  "language_info": {
   "codemirror_mode": {
    "name": "ipython",
    "version": 3
   },
   "file_extension": ".py",
   "mimetype": "text/x-python",
   "name": "python",
   "nbconvert_exporter": "python",
   "pygments_lexer": "ipython3",
   "version": "3.13.2"
  }
 },
 "nbformat": 4,
 "nbformat_minor": 5
}
